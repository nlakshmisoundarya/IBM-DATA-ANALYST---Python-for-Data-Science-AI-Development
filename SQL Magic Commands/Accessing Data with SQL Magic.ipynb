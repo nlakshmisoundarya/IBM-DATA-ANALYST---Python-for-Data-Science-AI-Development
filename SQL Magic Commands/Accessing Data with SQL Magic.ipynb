version https://git-lfs.github.com/spec/v1
oid sha256:5e60e89b4b66ee57301f30b4c8adc9a91cb880d927bb1041d56273d96c0b7318
size 73340
