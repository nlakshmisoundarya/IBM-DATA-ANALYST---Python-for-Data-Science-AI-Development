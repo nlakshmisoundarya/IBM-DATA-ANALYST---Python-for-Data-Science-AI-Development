{
  "cells": [
    {
      "cell_type": "markdown",
      "metadata": {
        "id": "33bd05da-6e36-4ebd-91df-37099c05bd71"
      },
      "source": [
        "<p style=\"text-align:center\">\n",
        "    <a href=\"https://skills.network\" target=\"_blank\">\n",
        "    <img src=\"https://cf-courses-data.s3.us.cloud-object-storage.appdomain.cloud/assets/logos/SN_web_lightmode.png\" width=\"300\" alt=\"Skills Network Logo\">\n",
        "    </a>\n",
        "</p>\n"
      ]
    },
    {
      "cell_type": "markdown",
      "metadata": {
        "id": "4ba2a6e3-61c6-4741-b043-68c3087d2778"
      },
      "source": [
        "# **Hands-on lab: Exploratory Data Analysis - Laptops Pricing dataset**\n",
        "\n",
        "Estimated time needed: **45** minutes\n",
        "\n",
        "In this lab, you will use the skills acquired throughout the module, to explore the effect of different features on the price of laptops.\n"
      ]
    },
    {
      "cell_type": "markdown",
      "metadata": {
        "id": "796acc7b-a7fe-4160-ba03-26abff862de8"
      },
      "source": [
        "# Objectives\n",
        "\n",
        "After completing this lab you will be able to:\n",
        "\n",
        " - Visualize individual feature patterns\n",
        " - Run descriptive statistical analysis on the dataset\n",
        " - Use groups and pivot tables to find the effect of categorical variables on price\n",
        " - Use Pearson Correlation to measure the interdependence between variables\n"
      ]
    },
    {
      "cell_type": "markdown",
      "metadata": {
        "id": "6f2135b4-a30a-4b0e-aa5a-fb89143d6b88"
      },
      "source": [
        "# Setup\n"
      ]
    },
    {
      "cell_type": "markdown",
      "metadata": {
        "id": "55e6aab3-7dd4-4494-a032-cb3ca24f331f"
      },
      "source": [
        "For this lab, we will be using the following libraries:\n",
        "\n",
        "* `skillsnetwork` for downloading the data\n",
        "*   [`pandas`](https://pandas.pydata.org/?utm_medium=Exinfluencer&utm_source=Exinfluencer&utm_content=000026UJ&utm_term=10006555&utm_id=NA-SkillsNetwork-Channel-SkillsNetworkCoursesIBMML0187ENSkillsNetwork31430127-2021-01-01) for managing the data.\n",
        "*   [`numpy`](https://numpy.org/?utm_medium=Exinfluencer&utm_source=Exinfluencer&utm_content=000026UJ&utm_term=10006555&utm_id=NA-SkillsNetwork-Channel-SkillsNetworkCoursesIBMML0187ENSkillsNetwork31430127-2021-01-01) for mathematical operations.\n",
        "*   [`scipy`](https://docs.scipy.org/doc/scipy/?utm_medium=Exinfluencer&utm_source=Exinfluencer&utm_content=000026UJ&utm_term=10006555&utm_id=NA-SkillsNetwork-Channel-SkillsNetworkCoursesIBMML0187ENSkillsNetwork31430127-2021-01-01) for statistical operations.\n",
        "*   [`seaborn`](https://seaborn.pydata.org/?utm_medium=Exinfluencer&utm_source=Exinfluencer&utm_content=000026UJ&utm_term=10006555&utm_id=NA-SkillsNetwork-Channel-SkillsNetworkCoursesIBMML0187ENSkillsNetwork31430127-2021-01-01) for visualizing the data.\n",
        "*   [`matplotlib`](https://matplotlib.org/?utm_medium=Exinfluencer&utm_source=Exinfluencer&utm_content=000026UJ&utm_term=10006555&utm_id=NA-SkillsNetwork-Channel-SkillsNetworkCoursesIBMML0187ENSkillsNetwork31430127-2021-01-01) for additional plotting tools.\n"
      ]
    },
    {
      "cell_type": "markdown",
      "metadata": {
        "id": "8102adb0-2a0a-4b48-8b0e-c624157d4eb9"
      },
      "source": [
        "# Install Required Libraries\n",
        "\n",
        "You can install the required libraries by simply running the `pip install` command with a `%` sign before it. For this environment, `seaborn` library requires installation.\n"
      ]
    },
    {
      "cell_type": "code",
      "metadata": {
        "id": "5ee4ddd3-51c9-44c6-a5ef-dc8111d73287"
      },
      "outputs": [],
      "source": [
        "# import piplite\n",
        "# await piplite.install('seaborn')"
      ],
      "execution_count": 4
    },
    {
      "cell_type": "markdown",
      "metadata": {
        "id": "2a8d3df3-9080-4566-a535-d35e4b37b1e8"
      },
      "source": [
        "### Importing Required Libraries\n",
        "\n",
        "_We recommend you import all required libraries in one place (here):_\n"
      ]
    },
    {
      "cell_type": "code",
      "metadata": {
        "id": "c2f29b87-def3-468a-ab63-1770db3fc657"
      },
      "outputs": [],
      "source": [
        "import numpy as np\n",
        "import pandas as pd\n",
        "import matplotlib.pyplot as plt\n",
        "import seaborn as sns\n",
        "from scipy import stats\n",
        "%matplotlib inline"
      ],
      "execution_count": 5
    },
    {
      "cell_type": "markdown",
      "metadata": {
        "id": "591cf75b-5071-420b-8537-a40e9a5389ca"
      },
      "source": [
        "# Import the dataset\n",
        "\n",
        "You should download the modified version of the data set from the last module.\n",
        "Run the following code block to download the CSV file to this environment.\n",
        "\n",
        "\n",
        "The functions below will download the dataset into your browser:\n"
      ]
    },
    {
      "cell_type": "code",
      "metadata": {
        "id": "9e0ccb76-b90d-4cbd-9784-8e2f1cf84fe7"
      },
      "outputs": [],
      "source": [
        "# from pyodide.http import pyfetch\n",
        "\n",
        "# async def download(url, filename):\n",
        "#     response = await pyfetch(url)\n",
        "#     if response.status == 200:\n",
        "#         with open(filename, \"wb\") as f:\n",
        "#             f.write(await response.bytes())"
      ],
      "execution_count": 6
    },
    {
      "cell_type": "code",
      "metadata": {
        "id": "06cac0e5-1872-417e-8ad1-5e250d2840e6"
      },
      "outputs": [],
      "source": [
        "# filepath=\"https://cf-courses-data.s3.us.cloud-object-storage.appdomain.cloud/IBMDeveloperSkillsNetwork-DA0101EN-Coursera/laptop_pricing_dataset_mod2.csv\""
      ],
      "execution_count": 7
    },
    {
      "cell_type": "code",
      "metadata": {
        "id": "24859532-848b-4cf4-baca-1a28dc6887d7"
      },
      "outputs": [],
      "source": [
        "# await download(filepath, \"laptops.csv\")\n",
        "# file_name=\"laptops.csv\""
      ],
      "execution_count": 8
    },
    {
      "cell_type": "markdown",
      "metadata": {
        "id": "85a84c25-79de-4fd1-806c-d5199dff62f7"
      },
      "source": [
        "Import the file to a pandas dataframe.\n"
      ]
    },
    {
      "cell_type": "code",
      "metadata": {
        "id": "3f97f3a1-8feb-46ac-8ac5-5808efa7423e"
      },
      "outputs": [],
      "source": [
        "# df = pd.read_csv(file_name, header=0)"
      ],
      "execution_count": 9
    },
    {
      "cell_type": "markdown",
      "metadata": {
        "id": "70e69e0e-ffb8-4674-933a-828369e63fb3"
      },
      "source": [
        "> Note: This version of the lab is working on JupyterLite, which requires the dataset to be downloaded to the interface. While working on the downloaded version of this notebook on their local machines, the learners can simply **skip the steps above**, and simply use the URL directly in the `pandas.read_csv()` function. You can uncomment and run the statements in the cell below.\n"
      ]
    },
    {
      "cell_type": "code",
      "metadata": {
        "id": "eddb4ba9-f41d-4d5e-8adb-68c760912cf3"
      },
      "outputs": [],
      "source": [
        "filepath=\"https://cf-courses-data.s3.us.cloud-object-storage.appdomain.cloud/IBMDeveloperSkillsNetwork-DA0101EN-Coursera/laptop_pricing_dataset_mod2.csv\"\n",
        "df = pd.read_csv(filepath, header=0)"
      ],
      "execution_count": 10
    },
    {
      "cell_type": "markdown",
      "metadata": {
        "id": "17d10d29-d49f-4dc3-8eca-e93200d202db"
      },
      "source": [
        "Print the first 5 entries of the dataset to confirm loading.\n"
      ]
    },
    {
      "cell_type": "code",
      "metadata": {
        "colab": {
          "base_uri": "https://localhost:8080/",
          "height": 243
        },
        "id": "fc281aa0-8ef1-4411-8650-21986e366028",
        "outputId": "c1380f21-f877-4f65-f2ad-0fc09d9cf97d"
      },
      "outputs": [
        {
          "output_type": "execute_result",
          "data": {
            "text/plain": [
              "   Unnamed: 0.1  Unnamed: 0 Manufacturer  Category  GPU  OS  CPU_core  \\\n",
              "0             0           0         Acer         4    2   1         5   \n",
              "1             1           1         Dell         3    1   1         3   \n",
              "2             2           2         Dell         3    1   1         7   \n",
              "3             3           3         Dell         4    2   1         5   \n",
              "4             4           4           HP         4    2   1         7   \n",
              "\n",
              "   Screen_Size_inch  CPU_frequency  RAM_GB  Storage_GB_SSD  Weight_pounds  \\\n",
              "0              14.0       0.551724       8             256        3.52800   \n",
              "1              15.6       0.689655       4             256        4.85100   \n",
              "2              15.6       0.931034       8             256        4.85100   \n",
              "3              13.3       0.551724       8             128        2.69010   \n",
              "4              15.6       0.620690       8             256        4.21155   \n",
              "\n",
              "   Price Price-binned  Screen-Full_HD  Screen-IPS_panel  \n",
              "0    978          Low               0                 1  \n",
              "1    634          Low               1                 0  \n",
              "2    946          Low               1                 0  \n",
              "3   1244          Low               0                 1  \n",
              "4    837          Low               1                 0  "
            ],
            "text/html": [
              "\n",
              "  <div id=\"df-0bf974ae-34c7-441f-9b07-162910aa55b5\" class=\"colab-df-container\">\n",
              "    <div>\n",
              "<style scoped>\n",
              "    .dataframe tbody tr th:only-of-type {\n",
              "        vertical-align: middle;\n",
              "    }\n",
              "\n",
              "    .dataframe tbody tr th {\n",
              "        vertical-align: top;\n",
              "    }\n",
              "\n",
              "    .dataframe thead th {\n",
              "        text-align: right;\n",
              "    }\n",
              "</style>\n",
              "<table border=\"1\" class=\"dataframe\">\n",
              "  <thead>\n",
              "    <tr style=\"text-align: right;\">\n",
              "      <th></th>\n",
              "      <th>Unnamed: 0.1</th>\n",
              "      <th>Unnamed: 0</th>\n",
              "      <th>Manufacturer</th>\n",
              "      <th>Category</th>\n",
              "      <th>GPU</th>\n",
              "      <th>OS</th>\n",
              "      <th>CPU_core</th>\n",
              "      <th>Screen_Size_inch</th>\n",
              "      <th>CPU_frequency</th>\n",
              "      <th>RAM_GB</th>\n",
              "      <th>Storage_GB_SSD</th>\n",
              "      <th>Weight_pounds</th>\n",
              "      <th>Price</th>\n",
              "      <th>Price-binned</th>\n",
              "      <th>Screen-Full_HD</th>\n",
              "      <th>Screen-IPS_panel</th>\n",
              "    </tr>\n",
              "  </thead>\n",
              "  <tbody>\n",
              "    <tr>\n",
              "      <th>0</th>\n",
              "      <td>0</td>\n",
              "      <td>0</td>\n",
              "      <td>Acer</td>\n",
              "      <td>4</td>\n",
              "      <td>2</td>\n",
              "      <td>1</td>\n",
              "      <td>5</td>\n",
              "      <td>14.0</td>\n",
              "      <td>0.551724</td>\n",
              "      <td>8</td>\n",
              "      <td>256</td>\n",
              "      <td>3.52800</td>\n",
              "      <td>978</td>\n",
              "      <td>Low</td>\n",
              "      <td>0</td>\n",
              "      <td>1</td>\n",
              "    </tr>\n",
              "    <tr>\n",
              "      <th>1</th>\n",
              "      <td>1</td>\n",
              "      <td>1</td>\n",
              "      <td>Dell</td>\n",
              "      <td>3</td>\n",
              "      <td>1</td>\n",
              "      <td>1</td>\n",
              "      <td>3</td>\n",
              "      <td>15.6</td>\n",
              "      <td>0.689655</td>\n",
              "      <td>4</td>\n",
              "      <td>256</td>\n",
              "      <td>4.85100</td>\n",
              "      <td>634</td>\n",
              "      <td>Low</td>\n",
              "      <td>1</td>\n",
              "      <td>0</td>\n",
              "    </tr>\n",
              "    <tr>\n",
              "      <th>2</th>\n",
              "      <td>2</td>\n",
              "      <td>2</td>\n",
              "      <td>Dell</td>\n",
              "      <td>3</td>\n",
              "      <td>1</td>\n",
              "      <td>1</td>\n",
              "      <td>7</td>\n",
              "      <td>15.6</td>\n",
              "      <td>0.931034</td>\n",
              "      <td>8</td>\n",
              "      <td>256</td>\n",
              "      <td>4.85100</td>\n",
              "      <td>946</td>\n",
              "      <td>Low</td>\n",
              "      <td>1</td>\n",
              "      <td>0</td>\n",
              "    </tr>\n",
              "    <tr>\n",
              "      <th>3</th>\n",
              "      <td>3</td>\n",
              "      <td>3</td>\n",
              "      <td>Dell</td>\n",
              "      <td>4</td>\n",
              "      <td>2</td>\n",
              "      <td>1</td>\n",
              "      <td>5</td>\n",
              "      <td>13.3</td>\n",
              "      <td>0.551724</td>\n",
              "      <td>8</td>\n",
              "      <td>128</td>\n",
              "      <td>2.69010</td>\n",
              "      <td>1244</td>\n",
              "      <td>Low</td>\n",
              "      <td>0</td>\n",
              "      <td>1</td>\n",
              "    </tr>\n",
              "    <tr>\n",
              "      <th>4</th>\n",
              "      <td>4</td>\n",
              "      <td>4</td>\n",
              "      <td>HP</td>\n",
              "      <td>4</td>\n",
              "      <td>2</td>\n",
              "      <td>1</td>\n",
              "      <td>7</td>\n",
              "      <td>15.6</td>\n",
              "      <td>0.620690</td>\n",
              "      <td>8</td>\n",
              "      <td>256</td>\n",
              "      <td>4.21155</td>\n",
              "      <td>837</td>\n",
              "      <td>Low</td>\n",
              "      <td>1</td>\n",
              "      <td>0</td>\n",
              "    </tr>\n",
              "  </tbody>\n",
              "</table>\n",
              "</div>\n",
              "    <div class=\"colab-df-buttons\">\n",
              "\n",
              "  <div class=\"colab-df-container\">\n",
              "    <button class=\"colab-df-convert\" onclick=\"convertToInteractive('df-0bf974ae-34c7-441f-9b07-162910aa55b5')\"\n",
              "            title=\"Convert this dataframe to an interactive table.\"\n",
              "            style=\"display:none;\">\n",
              "\n",
              "  <svg xmlns=\"http://www.w3.org/2000/svg\" height=\"24px\" viewBox=\"0 -960 960 960\">\n",
              "    <path d=\"M120-120v-720h720v720H120Zm60-500h600v-160H180v160Zm220 220h160v-160H400v160Zm0 220h160v-160H400v160ZM180-400h160v-160H180v160Zm440 0h160v-160H620v160ZM180-180h160v-160H180v160Zm440 0h160v-160H620v160Z\"/>\n",
              "  </svg>\n",
              "    </button>\n",
              "\n",
              "  <style>\n",
              "    .colab-df-container {\n",
              "      display:flex;\n",
              "      gap: 12px;\n",
              "    }\n",
              "\n",
              "    .colab-df-convert {\n",
              "      background-color: #E8F0FE;\n",
              "      border: none;\n",
              "      border-radius: 50%;\n",
              "      cursor: pointer;\n",
              "      display: none;\n",
              "      fill: #1967D2;\n",
              "      height: 32px;\n",
              "      padding: 0 0 0 0;\n",
              "      width: 32px;\n",
              "    }\n",
              "\n",
              "    .colab-df-convert:hover {\n",
              "      background-color: #E2EBFA;\n",
              "      box-shadow: 0px 1px 2px rgba(60, 64, 67, 0.3), 0px 1px 3px 1px rgba(60, 64, 67, 0.15);\n",
              "      fill: #174EA6;\n",
              "    }\n",
              "\n",
              "    .colab-df-buttons div {\n",
              "      margin-bottom: 4px;\n",
              "    }\n",
              "\n",
              "    [theme=dark] .colab-df-convert {\n",
              "      background-color: #3B4455;\n",
              "      fill: #D2E3FC;\n",
              "    }\n",
              "\n",
              "    [theme=dark] .colab-df-convert:hover {\n",
              "      background-color: #434B5C;\n",
              "      box-shadow: 0px 1px 3px 1px rgba(0, 0, 0, 0.15);\n",
              "      filter: drop-shadow(0px 1px 2px rgba(0, 0, 0, 0.3));\n",
              "      fill: #FFFFFF;\n",
              "    }\n",
              "  </style>\n",
              "\n",
              "    <script>\n",
              "      const buttonEl =\n",
              "        document.querySelector('#df-0bf974ae-34c7-441f-9b07-162910aa55b5 button.colab-df-convert');\n",
              "      buttonEl.style.display =\n",
              "        google.colab.kernel.accessAllowed ? 'block' : 'none';\n",
              "\n",
              "      async function convertToInteractive(key) {\n",
              "        const element = document.querySelector('#df-0bf974ae-34c7-441f-9b07-162910aa55b5');\n",
              "        const dataTable =\n",
              "          await google.colab.kernel.invokeFunction('convertToInteractive',\n",
              "                                                    [key], {});\n",
              "        if (!dataTable) return;\n",
              "\n",
              "        const docLinkHtml = 'Like what you see? Visit the ' +\n",
              "          '<a target=\"_blank\" href=https://colab.research.google.com/notebooks/data_table.ipynb>data table notebook</a>'\n",
              "          + ' to learn more about interactive tables.';\n",
              "        element.innerHTML = '';\n",
              "        dataTable['output_type'] = 'display_data';\n",
              "        await google.colab.output.renderOutput(dataTable, element);\n",
              "        const docLink = document.createElement('div');\n",
              "        docLink.innerHTML = docLinkHtml;\n",
              "        element.appendChild(docLink);\n",
              "      }\n",
              "    </script>\n",
              "  </div>\n",
              "\n",
              "\n",
              "    <div id=\"df-45912e65-254d-4371-8daf-a4995958501a\">\n",
              "      <button class=\"colab-df-quickchart\" onclick=\"quickchart('df-45912e65-254d-4371-8daf-a4995958501a')\"\n",
              "                title=\"Suggest charts\"\n",
              "                style=\"display:none;\">\n",
              "\n",
              "<svg xmlns=\"http://www.w3.org/2000/svg\" height=\"24px\"viewBox=\"0 0 24 24\"\n",
              "     width=\"24px\">\n",
              "    <g>\n",
              "        <path d=\"M19 3H5c-1.1 0-2 .9-2 2v14c0 1.1.9 2 2 2h14c1.1 0 2-.9 2-2V5c0-1.1-.9-2-2-2zM9 17H7v-7h2v7zm4 0h-2V7h2v10zm4 0h-2v-4h2v4z\"/>\n",
              "    </g>\n",
              "</svg>\n",
              "      </button>\n",
              "\n",
              "<style>\n",
              "  .colab-df-quickchart {\n",
              "      --bg-color: #E8F0FE;\n",
              "      --fill-color: #1967D2;\n",
              "      --hover-bg-color: #E2EBFA;\n",
              "      --hover-fill-color: #174EA6;\n",
              "      --disabled-fill-color: #AAA;\n",
              "      --disabled-bg-color: #DDD;\n",
              "  }\n",
              "\n",
              "  [theme=dark] .colab-df-quickchart {\n",
              "      --bg-color: #3B4455;\n",
              "      --fill-color: #D2E3FC;\n",
              "      --hover-bg-color: #434B5C;\n",
              "      --hover-fill-color: #FFFFFF;\n",
              "      --disabled-bg-color: #3B4455;\n",
              "      --disabled-fill-color: #666;\n",
              "  }\n",
              "\n",
              "  .colab-df-quickchart {\n",
              "    background-color: var(--bg-color);\n",
              "    border: none;\n",
              "    border-radius: 50%;\n",
              "    cursor: pointer;\n",
              "    display: none;\n",
              "    fill: var(--fill-color);\n",
              "    height: 32px;\n",
              "    padding: 0;\n",
              "    width: 32px;\n",
              "  }\n",
              "\n",
              "  .colab-df-quickchart:hover {\n",
              "    background-color: var(--hover-bg-color);\n",
              "    box-shadow: 0 1px 2px rgba(60, 64, 67, 0.3), 0 1px 3px 1px rgba(60, 64, 67, 0.15);\n",
              "    fill: var(--button-hover-fill-color);\n",
              "  }\n",
              "\n",
              "  .colab-df-quickchart-complete:disabled,\n",
              "  .colab-df-quickchart-complete:disabled:hover {\n",
              "    background-color: var(--disabled-bg-color);\n",
              "    fill: var(--disabled-fill-color);\n",
              "    box-shadow: none;\n",
              "  }\n",
              "\n",
              "  .colab-df-spinner {\n",
              "    border: 2px solid var(--fill-color);\n",
              "    border-color: transparent;\n",
              "    border-bottom-color: var(--fill-color);\n",
              "    animation:\n",
              "      spin 1s steps(1) infinite;\n",
              "  }\n",
              "\n",
              "  @keyframes spin {\n",
              "    0% {\n",
              "      border-color: transparent;\n",
              "      border-bottom-color: var(--fill-color);\n",
              "      border-left-color: var(--fill-color);\n",
              "    }\n",
              "    20% {\n",
              "      border-color: transparent;\n",
              "      border-left-color: var(--fill-color);\n",
              "      border-top-color: var(--fill-color);\n",
              "    }\n",
              "    30% {\n",
              "      border-color: transparent;\n",
              "      border-left-color: var(--fill-color);\n",
              "      border-top-color: var(--fill-color);\n",
              "      border-right-color: var(--fill-color);\n",
              "    }\n",
              "    40% {\n",
              "      border-color: transparent;\n",
              "      border-right-color: var(--fill-color);\n",
              "      border-top-color: var(--fill-color);\n",
              "    }\n",
              "    60% {\n",
              "      border-color: transparent;\n",
              "      border-right-color: var(--fill-color);\n",
              "    }\n",
              "    80% {\n",
              "      border-color: transparent;\n",
              "      border-right-color: var(--fill-color);\n",
              "      border-bottom-color: var(--fill-color);\n",
              "    }\n",
              "    90% {\n",
              "      border-color: transparent;\n",
              "      border-bottom-color: var(--fill-color);\n",
              "    }\n",
              "  }\n",
              "</style>\n",
              "\n",
              "      <script>\n",
              "        async function quickchart(key) {\n",
              "          const quickchartButtonEl =\n",
              "            document.querySelector('#' + key + ' button');\n",
              "          quickchartButtonEl.disabled = true;  // To prevent multiple clicks.\n",
              "          quickchartButtonEl.classList.add('colab-df-spinner');\n",
              "          try {\n",
              "            const charts = await google.colab.kernel.invokeFunction(\n",
              "                'suggestCharts', [key], {});\n",
              "          } catch (error) {\n",
              "            console.error('Error during call to suggestCharts:', error);\n",
              "          }\n",
              "          quickchartButtonEl.classList.remove('colab-df-spinner');\n",
              "          quickchartButtonEl.classList.add('colab-df-quickchart-complete');\n",
              "        }\n",
              "        (() => {\n",
              "          let quickchartButtonEl =\n",
              "            document.querySelector('#df-45912e65-254d-4371-8daf-a4995958501a button');\n",
              "          quickchartButtonEl.style.display =\n",
              "            google.colab.kernel.accessAllowed ? 'block' : 'none';\n",
              "        })();\n",
              "      </script>\n",
              "    </div>\n",
              "\n",
              "    </div>\n",
              "  </div>\n"
            ],
            "application/vnd.google.colaboratory.intrinsic+json": {
              "type": "dataframe",
              "variable_name": "df",
              "summary": "{\n  \"name\": \"df\",\n  \"rows\": 238,\n  \"fields\": [\n    {\n      \"column\": \"Unnamed: 0.1\",\n      \"properties\": {\n        \"dtype\": \"number\",\n        \"std\": 68,\n        \"min\": 0,\n        \"max\": 237,\n        \"num_unique_values\": 238,\n        \"samples\": [\n          115,\n          15,\n          212\n        ],\n        \"semantic_type\": \"\",\n        \"description\": \"\"\n      }\n    },\n    {\n      \"column\": \"Unnamed: 0\",\n      \"properties\": {\n        \"dtype\": \"number\",\n        \"std\": 68,\n        \"min\": 0,\n        \"max\": 237,\n        \"num_unique_values\": 238,\n        \"samples\": [\n          115,\n          15,\n          212\n        ],\n        \"semantic_type\": \"\",\n        \"description\": \"\"\n      }\n    },\n    {\n      \"column\": \"Manufacturer\",\n      \"properties\": {\n        \"dtype\": \"category\",\n        \"num_unique_values\": 11,\n        \"samples\": [\n          \"Huawei\",\n          \"Acer\",\n          \"Samsung\"\n        ],\n        \"semantic_type\": \"\",\n        \"description\": \"\"\n      }\n    },\n    {\n      \"column\": \"Category\",\n      \"properties\": {\n        \"dtype\": \"number\",\n        \"std\": 0,\n        \"min\": 1,\n        \"max\": 5,\n        \"num_unique_values\": 5,\n        \"samples\": [\n          3,\n          2,\n          1\n        ],\n        \"semantic_type\": \"\",\n        \"description\": \"\"\n      }\n    },\n    {\n      \"column\": \"GPU\",\n      \"properties\": {\n        \"dtype\": \"number\",\n        \"std\": 0,\n        \"min\": 1,\n        \"max\": 3,\n        \"num_unique_values\": 3,\n        \"samples\": [\n          2,\n          1,\n          3\n        ],\n        \"semantic_type\": \"\",\n        \"description\": \"\"\n      }\n    },\n    {\n      \"column\": \"OS\",\n      \"properties\": {\n        \"dtype\": \"number\",\n        \"std\": 0,\n        \"min\": 1,\n        \"max\": 2,\n        \"num_unique_values\": 2,\n        \"samples\": [\n          2,\n          1\n        ],\n        \"semantic_type\": \"\",\n        \"description\": \"\"\n      }\n    },\n    {\n      \"column\": \"CPU_core\",\n      \"properties\": {\n        \"dtype\": \"number\",\n        \"std\": 1,\n        \"min\": 3,\n        \"max\": 7,\n        \"num_unique_values\": 3,\n        \"samples\": [\n          5,\n          3\n        ],\n        \"semantic_type\": \"\",\n        \"description\": \"\"\n      }\n    },\n    {\n      \"column\": \"Screen_Size_inch\",\n      \"properties\": {\n        \"dtype\": \"number\",\n        \"std\": 1.1660445051394153,\n        \"min\": 12.0,\n        \"max\": 17.3,\n        \"num_unique_values\": 9,\n        \"samples\": [\n          12.5,\n          15.6\n        ],\n        \"semantic_type\": \"\",\n        \"description\": \"\"\n      }\n    },\n    {\n      \"column\": \"CPU_frequency\",\n      \"properties\": {\n        \"dtype\": \"number\",\n        \"std\": 0.14185951867902602,\n        \"min\": 0.4137931034482758,\n        \"max\": 1.0,\n        \"num_unique_values\": 11,\n        \"samples\": [\n          0.8275862068965517,\n          0.5517241379310345\n        ],\n        \"semantic_type\": \"\",\n        \"description\": \"\"\n      }\n    },\n    {\n      \"column\": \"RAM_GB\",\n      \"properties\": {\n        \"dtype\": \"number\",\n        \"std\": 2,\n        \"min\": 4,\n        \"max\": 16,\n        \"num_unique_values\": 5,\n        \"samples\": [\n          4,\n          12\n        ],\n        \"semantic_type\": \"\",\n        \"description\": \"\"\n      }\n    },\n    {\n      \"column\": \"Storage_GB_SSD\",\n      \"properties\": {\n        \"dtype\": \"number\",\n        \"std\": 34,\n        \"min\": 128,\n        \"max\": 256,\n        \"num_unique_values\": 2,\n        \"samples\": [\n          128,\n          256\n        ],\n        \"semantic_type\": \"\",\n        \"description\": \"\"\n      }\n    },\n    {\n      \"column\": \"Weight_pounds\",\n      \"properties\": {\n        \"dtype\": \"number\",\n        \"std\": 1.0784424972042663,\n        \"min\": 1.78605,\n        \"max\": 7.938000000000001,\n        \"num_unique_values\": 78,\n        \"samples\": [\n          4.29975,\n          3.5280000000000005\n        ],\n        \"semantic_type\": \"\",\n        \"description\": \"\"\n      }\n    },\n    {\n      \"column\": \"Price\",\n      \"properties\": {\n        \"dtype\": \"number\",\n        \"std\": 574,\n        \"min\": 527,\n        \"max\": 3810,\n        \"num_unique_values\": 193,\n        \"samples\": [\n          1172,\n          1598\n        ],\n        \"semantic_type\": \"\",\n        \"description\": \"\"\n      }\n    },\n    {\n      \"column\": \"Price-binned\",\n      \"properties\": {\n        \"dtype\": \"category\",\n        \"num_unique_values\": 3,\n        \"samples\": [\n          \"Low\",\n          \"Medium\"\n        ],\n        \"semantic_type\": \"\",\n        \"description\": \"\"\n      }\n    },\n    {\n      \"column\": \"Screen-Full_HD\",\n      \"properties\": {\n        \"dtype\": \"number\",\n        \"std\": 0,\n        \"min\": 0,\n        \"max\": 1,\n        \"num_unique_values\": 2,\n        \"samples\": [\n          1,\n          0\n        ],\n        \"semantic_type\": \"\",\n        \"description\": \"\"\n      }\n    },\n    {\n      \"column\": \"Screen-IPS_panel\",\n      \"properties\": {\n        \"dtype\": \"number\",\n        \"std\": 0,\n        \"min\": 0,\n        \"max\": 1,\n        \"num_unique_values\": 2,\n        \"samples\": [\n          0,\n          1\n        ],\n        \"semantic_type\": \"\",\n        \"description\": \"\"\n      }\n    }\n  ]\n}"
            }
          },
          "metadata": {},
          "execution_count": 11
        }
      ],
      "source": [
        "df.head(5)"
      ],
      "execution_count": 11
    },
    {
      "cell_type": "markdown",
      "metadata": {
        "id": "65a401ea-9b22-4dfb-80ee-8fff0efca6da"
      },
      "source": [
        "# Task 1 - Visualize individual feature patterns\n",
        "\n",
        "### Continuous valued features\n",
        "Generate regression plots for each of the parameters \"CPU_frequency\", \"Screen_Size_inch\" and \"Weight_pounds\" against \"Price\". Also, print the value of correlation of each feature with \"Price\".\n"
      ]
    },
    {
      "cell_type": "code",
      "metadata": {
        "colab": {
          "base_uri": "https://localhost:8080/",
          "height": 467
        },
        "id": "4a7832ab-3239-4e4b-a352-db24f5d366c9",
        "outputId": "36f4f0b9-1c24-4283-8f20-5a5176502704"
      },
      "outputs": [
        {
          "output_type": "execute_result",
          "data": {
            "text/plain": [
              "(0.0, 3974.15)"
            ]
          },
          "metadata": {},
          "execution_count": 12
        },
        {
          "output_type": "display_data",
          "data": {
            "text/plain": [
              "<Figure size 640x480 with 1 Axes>"
            ],
            "image/png": "[encoded data removed]"
          },
          "metadata": {}
        }
      ],
      "source": [
        "# Write your code below and press Shift+Enter to execute\n",
        "# CPU_frequency plot\n",
        "sns.regplot(x=\"CPU_frequency\", y=\"Price\", data=df)\n",
        "plt.ylim(0,)"
      ],
      "execution_count": 12
    },
    {
      "cell_type": "markdown",
      "metadata": {
        "id": "5b1a2adc-9fee-4479-84fd-0af7186f6d17"
      },
      "source": [
        "<details>\n",
        "    <summary>Click here for Solution</summary>\n",
        "\n",
        "```python\n",
        "sns.regplot(x=\"CPU_frequency\", y=\"Price\", data=df)\n",
        "plt.ylim(0,)\n",
        "```\n",
        "\n",
        "</details>\n"
      ]
    },
    {
      "cell_type": "code",
      "metadata": {
        "colab": {
          "base_uri": "https://localhost:8080/",
          "height": 467
        },
        "id": "a77bcef7-bff0-424f-9124-d47e7b048e7a",
        "outputId": "363bc435-bb55-4377-dc75-3c796dc7a447"
      },
      "outputs": [
        {
          "output_type": "execute_result",
          "data": {
            "text/plain": [
              "(0.0, 3974.15)"
            ]
          },
          "metadata": {},
          "execution_count": 13
        },
        {
          "output_type": "display_data",
          "data": {
            "text/plain": [
              "<Figure size 640x480 with 1 Axes>"
            ],
            "image/png": "[encoded data removed]"
          },
          "metadata": {}
        }
      ],
      "source": [
        "# Write your code below and press Shift+Enter to execute\n",
        "# Screen_Size_inch plot\n",
        "sns.regplot(x=\"Screen_Size_inch\", y=\"Price\", data=df)\n",
        "plt.ylim(0,)"
      ],
      "execution_count": 13
    },
    {
      "cell_type": "markdown",
      "metadata": {
        "id": "322dd79a-a16f-4e9a-a4a8-c221cd833bf2"
      },
      "source": [
        "<details>\n",
        "    <summary>Click here for Solution</summary>\n",
        "\n",
        "```python\n",
        "sns.regplot(x=\"Screen_Size_inch\", y=\"Price\", data=df)\n",
        "plt.ylim(0,)\n",
        "```\n",
        "\n",
        "</details>\n"
      ]
    },
    {
      "cell_type": "code",
      "metadata": {
        "colab": {
          "base_uri": "https://localhost:8080/",
          "height": 467
        },
        "id": "2f820bee-53e9-4b22-8df4-d55958e6f984",
        "outputId": "10e139f1-8b29-484a-b04b-56050dfe7280"
      },
      "outputs": [
        {
          "output_type": "execute_result",
          "data": {
            "text/plain": [
              "(0.0, 3974.15)"
            ]
          },
          "metadata": {},
          "execution_count": 14
        },
        {
          "output_type": "display_data",
          "data": {
            "text/plain": [
              "<Figure size 640x480 with 1 Axes>"
            ],
            "image/png": "[encoded data removed]"
          },
          "metadata": {}
        }
      ],
      "source": [
        "# Write your code below and press Shift+Enter to execute\n",
        "# Weight_pounds plot\n",
        "sns.regplot(x=\"Weight_pounds\", y=\"Price\", data=df)\n",
        "plt.ylim(0,)"
      ],
      "execution_count": 14
    },
    {
      "cell_type": "markdown",
      "metadata": {
        "id": "bfd4507c-b5c9-439c-9c6c-62d3a4609b41"
      },
      "source": [
        "<details>\n",
        "    <summary>Click here for Solution</summary>\n",
        "\n",
        "```python\n",
        "sns.regplot(x=\"Weight_pounds\", y=\"Price\", data=df)\n",
        "plt.ylim(0,)\n",
        "```\n",
        "\n",
        "</details>\n"
      ]
    },
    {
      "cell_type": "code",
      "metadata": {
        "colab": {
          "base_uri": "https://localhost:8080/"
        },
        "id": "68df63bf-b134-498e-ba0b-9c1390b1a330",
        "outputId": "7bb05529-955e-4f48-da22-1317caa4f601"
      },
      "outputs": [
        {
          "output_type": "stream",
          "name": "stdout",
          "text": [
            "Correlation of Price and CPU_frequency is                 CPU_frequency     Price\n",
            "CPU_frequency       1.000000  0.366666\n",
            "Price               0.366666  1.000000\n",
            "Correlation of Price and Screen_Size_inch is                    Screen_Size_inch     Price\n",
            "Screen_Size_inch          1.000000 -0.110644\n",
            "Price                    -0.110644  1.000000\n",
            "Correlation of Price and Weight_pounds is                 Weight_pounds     Price\n",
            "Weight_pounds       1.000000 -0.050312\n",
            "Price              -0.050312  1.000000\n"
          ]
        }
      ],
      "source": [
        "# Correlation values of the three attributes with Price\n",
        "for param in [\"CPU_frequency\", \"Screen_Size_inch\",\"Weight_pounds\"]:\n",
        "    print(f\"Correlation of Price and {param} is \", df[[param,\"Price\"]].corr())"
      ],
      "execution_count": 15
    },
    {
      "cell_type": "markdown",
      "metadata": {
        "id": "936f726b-fc05-40f6-8043-b640cce598cc"
      },
      "source": [
        "<details>\n",
        "    <summary>Click here for Solution</summary>\n",
        "\n",
        "```python\n",
        "for param in [\"CPU_frequency\", \"Screen_Size_inch\",\"Weight_pounds\"]:\n",
        "    print(f\"Correlation of Price and {param} is \", df[[param,\"Price\"]].corr())\n",
        "```\n",
        "\n",
        "</details>\n"
      ]
    },
    {
      "cell_type": "markdown",
      "metadata": {
        "id": "a5c813b8-a017-4461-86ca-f5f25d282df8"
      },
      "source": [
        "Interpretation: \"CPU_frequency\" has a 36% positive correlation with the price of the laptops. The other two parameters have weak correlation with price.\n"
      ]
    },
    {
      "cell_type": "markdown",
      "metadata": {
        "id": "7c7a6a61-ab98-4204-ac40-96cb05921748"
      },
      "source": [
        "### Categorical features\n",
        "Generate Box plots for the different feature that hold categorical values. These features would be \"Category\", \"GPU\", \"OS\", \"CPU_core\", \"RAM_GB\", \"Storage_GB_SSD\"\n"
      ]
    },
    {
      "cell_type": "code",
      "metadata": {
        "colab": {
          "base_uri": "https://localhost:8080/",
          "height": 466
        },
        "id": "49292083-d28c-4864-bbd5-73592bed608b",
        "outputId": "38e1c288-d916-48cb-bac1-db66f8f98219"
      },
      "outputs": [
        {
          "output_type": "execute_result",
          "data": {
            "text/plain": [
              "<Axes: xlabel='Category', ylabel='Price'>"
            ]
          },
          "metadata": {},
          "execution_count": 16
        },
        {
          "output_type": "display_data",
          "data": {
            "text/plain": [
              "<Figure size 640x480 with 1 Axes>"
            ],
            "image/png": "[encoded data removed]"
          },
          "metadata": {}
        }
      ],
      "source": [
        "# Write your code below and press Shift+Enter to execute\n",
        "# Category Box plot\n",
        "sns.boxplot(x=\"Category\", y=\"Price\", data=df)"
      ],
      "execution_count": 16
    },
    {
      "cell_type": "markdown",
      "metadata": {
        "id": "9f50a9bf-6218-402a-a3c9-864983b2279b"
      },
      "source": [
        "<details>\n",
        "    <summary>Click here for Solution</summary>\n",
        "    \n",
        "```python\n",
        "sns.boxplot(x=\"Category\", y=\"Price\", data=df)\n",
        "```\n",
        "\n",
        "</details>\n"
      ]
    },
    {
      "cell_type": "code",
      "metadata": {
        "colab": {
          "base_uri": "https://localhost:8080/",
          "height": 466
        },
        "id": "3114fdfc-032c-407e-a956-f53846c2b7ec",
        "outputId": "f8c4e93d-ddcd-417c-f56f-21cf3fdc0b54"
      },
      "outputs": [
        {
          "output_type": "execute_result",
          "data": {
            "text/plain": [
              "<Axes: xlabel='GPU', ylabel='Price'>"
            ]
          },
          "metadata": {},
          "execution_count": 17
        },
        {
          "output_type": "display_data",
          "data": {
            "text/plain": [
              "<Figure size 640x480 with 1 Axes>"
            ],
            "image/png": "[encoded data removed]"
          },
          "metadata": {}
        }
      ],
      "source": [
        "# Write your code below and press Shift+Enter to execute\n",
        "# GPU Box plot\n",
        "sns.boxplot(x=\"GPU\", y=\"Price\", data=df)"
      ],
      "execution_count": 17
    },
    {
      "cell_type": "markdown",
      "metadata": {
        "id": "4804fc5b-7014-48fc-a0bf-a81788786bfb"
      },
      "source": [
        "<details>\n",
        "    <summary>Click here for Solution</summary>\n",
        "    \n",
        "```python\n",
        "sns.boxplot(x=\"GPU\", y=\"Price\", data=df)\n",
        "```\n",
        "\n",
        "</details>\n"
      ]
    },
    {
      "cell_type": "code",
      "metadata": {
        "colab": {
          "base_uri": "https://localhost:8080/",
          "height": 466
        },
        "id": "604c9a58-71d1-4007-a4b1-2eed04308b6f",
        "outputId": "af77bd8f-9d83-4198-9eea-1d1b562ddf7c"
      },
      "outputs": [
        {
          "output_type": "execute_result",
          "data": {
            "text/plain": [
              "<Axes: xlabel='OS', ylabel='Price'>"
            ]
          },
          "metadata": {},
          "execution_count": 18
        },
        {
          "output_type": "display_data",
          "data": {
            "text/plain": [
              "<Figure size 640x480 with 1 Axes>"
            ],
            "image/png": "[encoded data removed]"
          },
          "metadata": {}
        }
      ],
      "source": [
        "# Write your code below and press Shift+Enter to execute\n",
        "# OS Box plot\n",
        "sns.boxplot(x=\"OS\", y=\"Price\", data=df)"
      ],
      "execution_count": 18
    },
    {
      "cell_type": "markdown",
      "metadata": {
        "id": "62214e70-416d-45fe-8e35-b450ba4580ba"
      },
      "source": [
        "<details>\n",
        "    <summary>Click here for Solution</summary>\n",
        "    \n",
        "```python\n",
        "sns.boxplot(x=\"OS\", y=\"Price\", data=df)\n",
        "```\n",
        "\n",
        "</details>\n"
      ]
    },
    {
      "cell_type": "code",
      "metadata": {
        "colab": {
          "base_uri": "https://localhost:8080/",
          "height": 466
        },
        "id": "b902e552-4f62-41f5-834f-af84803d15a4",
        "outputId": "672fd0f0-e601-4758-9f37-3a2974a4f63f"
      },
      "outputs": [
        {
          "output_type": "execute_result",
          "data": {
            "text/plain": [
              "<Axes: xlabel='CPU_core', ylabel='Price'>"
            ]
          },
          "metadata": {},
          "execution_count": 19
        },
        {
          "output_type": "display_data",
          "data": {
            "text/plain": [
              "<Figure size 640x480 with 1 Axes>"
            ],
            "image/png": "[encoded data removed]"
          },
          "metadata": {}
        }
      ],
      "source": [
        "# Write your code below and press Shift+Enter to execute\n",
        "# CPU_core Box plot\n",
        "sns.boxplot(x=\"CPU_core\", y=\"Price\", data=df)"
      ],
      "execution_count": 19
    },
    {
      "cell_type": "markdown",
      "metadata": {
        "id": "2ff93240-20b7-4d05-b5dc-3f98a6f94f12"
      },
      "source": [
        "<details>\n",
        "    <summary>Click here for Solution</summary>\n",
        "    \n",
        "```python\n",
        "sns.boxplot(x=\"CPU_core\", y=\"Price\", data=df)\n",
        "```\n",
        "\n",
        "</details>\n"
      ]
    },
    {
      "cell_type": "code",
      "metadata": {
        "colab": {
          "base_uri": "https://localhost:8080/",
          "height": 466
        },
        "id": "63f234be-235a-4214-bbb0-4b948ff7ad65",
        "outputId": "4b25437c-c592-48ba-f72f-71d5781df52e"
      },
      "outputs": [
        {
          "output_type": "execute_result",
          "data": {
            "text/plain": [
              "<Axes: xlabel='RAM_GB', ylabel='Price'>"
            ]
          },
          "metadata": {},
          "execution_count": 20
        },
        {
          "output_type": "display_data",
          "data": {
            "text/plain": [
              "<Figure size 640x480 with 1 Axes>"
            ],
            "image/png": "[encoded data removed]"
          },
          "metadata": {}
        }
      ],
      "source": [
        "# Write your code below and press Shift+Enter to execute\n",
        "# RAM_GB Box plot\n",
        "sns.boxplot(x=\"RAM_GB\", y=\"Price\", data=df)"
      ],
      "execution_count": 20
    },
    {
      "cell_type": "markdown",
      "metadata": {
        "id": "7cfd8499-ff61-4baf-abd8-2d32e61df26b"
      },
      "source": [
        "<details>\n",
        "    <summary>Click here for Solution</summary>\n",
        "    \n",
        "```python\n",
        "sns.boxplot(x=\"RAM_GB\", y=\"Price\", data=df)\n",
        "```\n",
        "\n",
        "</details>\n"
      ]
    },
    {
      "cell_type": "code",
      "metadata": {
        "colab": {
          "base_uri": "https://localhost:8080/",
          "height": 466
        },
        "id": "d78284a9-828c-4b7c-b11f-66f0d6c540fb",
        "outputId": "052aa97f-4ac3-48e8-d5a2-3c84911cb59a"
      },
      "outputs": [
        {
          "output_type": "execute_result",
          "data": {
            "text/plain": [
              "<Axes: xlabel='Storage_GB_SSD', ylabel='Price'>"
            ]
          },
          "metadata": {},
          "execution_count": 21
        },
        {
          "output_type": "display_data",
          "data": {
            "text/plain": [
              "<Figure size 640x480 with 1 Axes>"
            ],
            "image/png": "[encoded data removed]"
          },
          "metadata": {}
        }
      ],
      "source": [
        "# Write your code below and press Shift+Enter to execute\n",
        "# Storage_GB_SSD Box plot\n",
        "sns.boxplot(x=\"Storage_GB_SSD\", y=\"Price\", data=df)"
      ],
      "execution_count": 21
    },
    {
      "cell_type": "markdown",
      "metadata": {
        "id": "f67e85bf-5314-4623-a727-183299343cf2"
      },
      "source": [
        "<details>\n",
        "    <summary>Click here for Solution</summary>\n",
        "    \n",
        "```python\n",
        "sns.boxplot(x=\"Storage_GB_SSD\", y=\"Price\", data=df)\n",
        "```\n",
        "\n",
        "</details>\n"
      ]
    },
    {
      "cell_type": "markdown",
      "metadata": {
        "id": "7bebbd7c-be5c-4dc3-ac00-eb0b25f84822"
      },
      "source": [
        "# Task 2 - Descriptive Statistical Analysis\n"
      ]
    },
    {
      "cell_type": "markdown",
      "metadata": {
        "id": "426044c0-ce9e-4fe1-9d47-3a6b87ecdcbf"
      },
      "source": [
        "Generate the statistical description of all the features being used in the data set. Include \"object\" data types as well.\n"
      ]
    },
    {
      "cell_type": "code",
      "metadata": {
        "colab": {
          "base_uri": "https://localhost:8080/"
        },
        "id": "8337c1ca-6586-4b69-8a85-7221686da1a6",
        "outputId": "1bc6e1c8-cf82-48c7-b182-298bd9146fb0"
      },
      "outputs": [
        {
          "output_type": "stream",
          "name": "stdout",
          "text": [
            "       Unnamed: 0.1  Unnamed: 0    Category         GPU          OS  \\\n",
            "count    238.000000  238.000000  238.000000  238.000000  238.000000   \n",
            "mean     118.500000  118.500000    3.205882    2.151261    1.058824   \n",
            "std       68.848868   68.848868    0.776533    0.638282    0.235790   \n",
            "min        0.000000    0.000000    1.000000    1.000000    1.000000   \n",
            "25%       59.250000   59.250000    3.000000    2.000000    1.000000   \n",
            "50%      118.500000  118.500000    3.000000    2.000000    1.000000   \n",
            "75%      177.750000  177.750000    4.000000    3.000000    1.000000   \n",
            "max      237.000000  237.000000    5.000000    3.000000    2.000000   \n",
            "\n",
            "         CPU_core  Screen_Size_inch  CPU_frequency      RAM_GB  \\\n",
            "count  238.000000        238.000000     238.000000  238.000000   \n",
            "mean     5.630252         14.688655       0.813822    7.882353   \n",
            "std      1.241787          1.166045       0.141860    2.482603   \n",
            "min      3.000000         12.000000       0.413793    4.000000   \n",
            "25%      5.000000         14.000000       0.689655    8.000000   \n",
            "50%      5.000000         15.000000       0.862069    8.000000   \n",
            "75%      7.000000         15.600000       0.931034    8.000000   \n",
            "max      7.000000         17.300000       1.000000   16.000000   \n",
            "\n",
            "       Storage_GB_SSD  Weight_pounds        Price  Screen-Full_HD  \\\n",
            "count      238.000000     238.000000   238.000000      238.000000   \n",
            "mean       245.781513       4.106221  1462.344538        0.676471   \n",
            "std         34.765316       1.078442   574.607699        0.468809   \n",
            "min        128.000000       1.786050   527.000000        0.000000   \n",
            "25%        256.000000       3.246863  1066.500000        0.000000   \n",
            "50%        256.000000       4.106221  1333.000000        1.000000   \n",
            "75%        256.000000       4.851000  1777.000000        1.000000   \n",
            "max        256.000000       7.938000  3810.000000        1.000000   \n",
            "\n",
            "       Screen-IPS_panel  \n",
            "count        238.000000  \n",
            "mean           0.323529  \n",
            "std            0.468809  \n",
            "min            0.000000  \n",
            "25%            0.000000  \n",
            "50%            0.000000  \n",
            "75%            1.000000  \n",
            "max            1.000000  \n",
            "       Manufacturer Price-binned\n",
            "count           238          238\n",
            "unique           11            3\n",
            "top            Dell          Low\n",
            "freq             71          160\n"
          ]
        }
      ],
      "source": [
        "# Write your code below and press Shift+Enter to execute\n",
        "print(df.describe())\n",
        "print(df.describe(include=['object']))"
      ],
      "execution_count": 22
    },
    {
      "cell_type": "markdown",
      "metadata": {
        "id": "8d816d79-9cfa-41c7-a3db-3ff62f15816c"
      },
      "source": [
        "<details>\n",
        "<summary>Click here for Solution</summary>\n",
        "\n",
        "```python\n",
        "print(df.describe())\n",
        "print(df.describe(include=['object']))\n",
        "```\n",
        "\n",
        "</details>\n"
      ]
    },
    {
      "cell_type": "markdown",
      "metadata": {
        "id": "5047af06-c6cf-4c0f-ae7a-91e5f7fe5798"
      },
      "source": [
        "# Task 3 - GroupBy and Pivot Tables\n",
        "\n",
        "Group the parameters \"GPU\", \"CPU_core\" and \"Price\" to make a pivot table and visualize this connection using the pcolor plot.\n"
      ]
    },
    {
      "cell_type": "code",
      "metadata": {
        "colab": {
          "base_uri": "https://localhost:8080/"
        },
        "id": "17639427-2358-4ec7-ab93-59f26d0819c3",
        "outputId": "ee80b585-1a1f-42fb-acf5-82d92b5f211a"
      },
      "outputs": [
        {
          "output_type": "stream",
          "name": "stdout",
          "text": [
            "   GPU  CPU_core        Price\n",
            "0    1         3   769.250000\n",
            "1    1         5   998.500000\n",
            "2    1         7  1167.941176\n",
            "3    2         3   785.076923\n",
            "4    2         5  1462.197674\n",
            "5    2         7  1744.621622\n",
            "6    3         3   784.000000\n",
            "7    3         5  1220.680000\n",
            "8    3         7  1945.097561\n"
          ]
        }
      ],
      "source": [
        "# Write your code below and press Shift+Enter to execute\n",
        "# Create the group\n",
        "df_gptest = df[['GPU','CPU_core','Price']]\n",
        "grouped_test1 = df_gptest.groupby(['GPU','CPU_core'],as_index=False).mean()\n",
        "print(grouped_test1)"
      ],
      "execution_count": 23
    },
    {
      "cell_type": "markdown",
      "metadata": {
        "id": "7d3a63c0-5400-4de8-b8aa-54a9dc72cd19"
      },
      "source": [
        "<details>\n",
        "<summary>Click here for Solution</summary>\n",
        "\n",
        "```python\n",
        "df_gptest = df[['GPU','CPU_core','Price']]\n",
        "grouped_test1 = df_gptest.groupby(['GPU','CPU_core'],as_index=False).mean()\n",
        "print(grouped_test1)\n",
        "```\n",
        "\n",
        "</details>\n"
      ]
    },
    {
      "cell_type": "code",
      "metadata": {
        "colab": {
          "base_uri": "https://localhost:8080/"
        },
        "id": "089510d2-d30c-49b9-9f9e-471b1464ec03",
        "outputId": "24ab3a37-4ed1-4832-d1df-ccf15fa70e05"
      },
      "outputs": [
        {
          "output_type": "stream",
          "name": "stdout",
          "text": [
            "               Price                          \n",
            "CPU_core           3            5            7\n",
            "GPU                                           \n",
            "1         769.250000   998.500000  1167.941176\n",
            "2         785.076923  1462.197674  1744.621622\n",
            "3         784.000000  1220.680000  1945.097561\n"
          ]
        }
      ],
      "source": [
        "# Write your code below and press Shift+Enter to execute\n",
        "# Create the Pivot table\n",
        "grouped_pivot = grouped_test1.pivot(index='GPU',columns='CPU_core')\n",
        "print(grouped_pivot)"
      ],
      "execution_count": 24
    },
    {
      "cell_type": "markdown",
      "metadata": {
        "id": "c3d7cf11-50fc-4c94-a9b0-fdd5e5d3d220"
      },
      "source": [
        "<details>\n",
        "<summary>Click here for Solution</summary>\n",
        "\n",
        "```python\n",
        "grouped_pivot = grouped_test1.pivot(index='GPU',columns='CPU_core')\n",
        "print(grouped_pivot)\n",
        "```\n",
        "\n",
        "</details>\n"
      ]
    },
    {
      "cell_type": "code",
      "metadata": {
        "colab": {
          "base_uri": "https://localhost:8080/",
          "height": 447
        },
        "id": "d3cd3ee0-73c7-49f3-8a20-d78b8144df2c",
        "outputId": "70372ed4-26fa-4308-df3d-960146a9224f"
      },
      "outputs": [
        {
          "output_type": "execute_result",
          "data": {
            "text/plain": [
              "<matplotlib.colorbar.Colorbar at 0x7c32a03b5bd0>"
            ]
          },
          "metadata": {},
          "execution_count": 25
        },
        {
          "output_type": "display_data",
          "data": {
            "text/plain": [
              "<Figure size 640x480 with 2 Axes>"
            ],
            "image/png": "[encoded data removed]"
          },
          "metadata": {}
        }
      ],
      "source": [
        "# Write your code below and press Shift+Enter to execute\n",
        "# Create the Plot\n",
        "fig, ax = plt.subplots()\n",
        "im = ax.pcolor(grouped_pivot, cmap='RdBu')\n",
        "\n",
        "# label names\n",
        "row_labels = grouped_pivot.columns.levels[1]\n",
        "col_labels = grouped_pivot.index\n",
        "\n",
        "# move ticks and labels to the center\n",
        "ax.set_xticks(np.arange(grouped_pivot.shape[1]) + 0.5, minor=False)\n",
        "ax.set_yticks(np.arange(grouped_pivot.shape[0]) + 0.5, minor=False)\n",
        "\n",
        "# insert labels\n",
        "ax.set_xticklabels(row_labels, minor=False)\n",
        "ax.set_yticklabels(col_labels, minor=False)\n",
        "\n",
        "fig.colorbar(im)"
      ],
      "execution_count": 25
    },
    {
      "cell_type": "markdown",
      "metadata": {
        "id": "06d84128-2978-4c0c-b1c7-bd9328541840"
      },
      "source": [
        "<details>\n",
        "<summary>Click here for Solution</summary>\n",
        "\n",
        "```python\n",
        "fig, ax = plt.subplots()\n",
        "im = ax.pcolor(grouped_pivot, cmap='RdBu')\n",
        "\n",
        "#label names\n",
        "row_labels = grouped_pivot.columns.levels[1]\n",
        "col_labels = grouped_pivot.index\n",
        "\n",
        "#move ticks and labels to the center\n",
        "ax.set_xticks(np.arange(grouped_pivot.shape[1]) + 0.5, minor=False)\n",
        "ax.set_yticks(np.arange(grouped_pivot.shape[0]) + 0.5, minor=False)\n",
        "\n",
        "#insert labels\n",
        "ax.set_xticklabels(row_labels, minor=False)\n",
        "ax.set_yticklabels(col_labels, minor=False)\n",
        "\n",
        "fig.colorbar(im)\n",
        "```\n",
        "\n",
        "</details>\n"
      ]
    },
    {
      "cell_type": "markdown",
      "metadata": {
        "id": "ea726f95-03eb-4a1c-958e-cbf950290716"
      },
      "source": [
        "# Task 4 - Pearson Correlation and p-values\n",
        "\n",
        "Use the `scipy.stats.pearsonr()` function to evaluate the Pearson Coefficient and the p-values for each parameter tested above. This will help you determine the parameters most likely to have a strong effect on the price of the laptops.\n"
      ]
    },
    {
      "cell_type": "code",
      "metadata": {
        "colab": {
          "base_uri": "https://localhost:8080/"
        },
        "id": "e3e5373b-9922-41cf-8b3a-3b7eb3ea7c45",
        "outputId": "7758e0bc-4a1e-4079-bc74-cdf26909008a"
      },
      "outputs": [
        {
          "output_type": "stream",
          "name": "stdout",
          "text": [
            "RAM_GB\n",
            "The Pearson Correlation Coefficient for  RAM_GB  is 0.5492972971857841  with a P-value of P = 3.681560628842995e-20\n",
            "CPU_frequency\n",
            "The Pearson Correlation Coefficient for  CPU_frequency  is 0.36666555892588615  with a P-value of P = 5.502463350713232e-09\n",
            "Storage_GB_SSD\n",
            "The Pearson Correlation Coefficient for  Storage_GB_SSD  is 0.24342075521810302  with a P-value of P = 0.00014898923191723927\n",
            "Screen_Size_inch\n",
            "The Pearson Correlation Coefficient for  Screen_Size_inch  is -0.11064420817118273  with a P-value of P = 0.08853397846830661\n",
            "Weight_pounds\n",
            "The Pearson Correlation Coefficient for  Weight_pounds  is -0.05031225837751551  with a P-value of P = 0.4397693853433896\n",
            "CPU_core\n",
            "The Pearson Correlation Coefficient for  CPU_core  is 0.4593977773355115  with a P-value of P = 7.912950127009183e-14\n",
            "OS\n",
            "The Pearson Correlation Coefficient for  OS  is -0.22172980114827384  with a P-value of P = 0.0005696642559246719\n",
            "GPU\n",
            "The Pearson Correlation Coefficient for  GPU  is 0.28829819888814273  with a P-value of P = 6.166949698364344e-06\n",
            "Category\n",
            "The Pearson Correlation Coefficient for  Category  is 0.2862427558126413  with a P-value of P = 7.22569623580658e-06\n"
          ]
        }
      ],
      "source": [
        "# Write your code below and press Shift+Enter to execute\n",
        "for param in ['RAM_GB','CPU_frequency','Storage_GB_SSD','Screen_Size_inch','Weight_pounds','CPU_core','OS','GPU','Category']:\n",
        "    pearson_coef, p_value = stats.pearsonr(df[param], df['Price'])\n",
        "    print(param)\n",
        "    print(\"The Pearson Correlation Coefficient for \",param,\" is\", pearson_coef, \" with a P-value of P =\", p_value)"
      ],
      "execution_count": 26
    },
    {
      "cell_type": "markdown",
      "metadata": {
        "id": "879c3477-c047-4581-b9ed-629fe6a46dba"
      },
      "source": [
        "<details>\n",
        "<summary>Click here for Solution</summary>\n",
        "\n",
        "```python\n",
        "for param in ['RAM_GB','CPU_frequency','Storage_GB_SSD','Screen_Size_inch','Weight_pounds','CPU_core','OS','GPU','Category']:\n",
        "    pearson_coef, p_value = stats.pearsonr(df[param], df['Price'])\n",
        "    print(param)\n",
        "    print(\"The Pearson Correlation Coefficient for \",param,\" is\", pearson_coef, \" with a P-value of P =\", p_value)\n",
        "```\n",
        "\n",
        "</details>\n"
      ]
    },
    {
      "cell_type": "markdown",
      "metadata": {
        "id": "8cbe80b9-e0b5-463c-a8ff-ab183e4ec1f2"
      },
      "source": [
        "# Congratulations! You have completed the lab\n"
      ]
    },
    {
      "cell_type": "markdown",
      "metadata": {
        "id": "1ab2436c-eaf9-4c36-961c-ca9ffa7cf657"
      },
      "source": [
        "## Authors\n"
      ]
    },
    {
      "cell_type": "markdown",
      "metadata": {
        "id": "3949ccce-9787-495d-a4f5-b8b0fbc8eab1"
      },
      "source": [
        "[Abhishek Gagneja](https://www.coursera.org/instructor/~129186572)\n",
        "\n",
        "[Vicky Kuo](https://author.skills.network/instructors/vicky_kuo)\n"
      ]
    },
    {
      "cell_type": "markdown",
      "metadata": {
        "id": "3bd72d06-8a49-427c-96ca-2869517467ce"
      },
      "source": [
        "Copyright © 2023 IBM Corporation. All rights reserved.\n"
      ]
    },
    {
      "cell_type": "markdown",
      "metadata": {
        "id": "30e03ca5-66b7-4cfe-be97-c7d33f920c42"
      },
      "source": [
        "<!--## Change Log\n"
      ]
    },
    {
      "cell_type": "markdown",
      "metadata": {
        "id": "e5ac61cb-a512-4bc8-921e-2d7247981fe3"
      },
      "source": [
        "<!--|Date (YYYY-MM-DD)|Version|Changed By|Change Description|\n",
        "|-|-|-|-|\n",
        "|2023-09-15|0.1|Abhishek Gagneja|Initial Version Created|\n",
        "|2023-09-18|0.2|Vicky Kuo|Reviewed and Revised|--!>\n"
      ]
    }
  ],
  "metadata": {
    "kernelspec": {
      "name": "python",
      "display_name": "Python (Pyodide)",
      "language": "python"
    },
    "language_info": {
      "codemirror_mode": {
        "name": "python",
        "version": 3
      },
      "file_extension": ".py",
      "mimetype": "text/x-python",
      "name": "python",
      "nbconvert_exporter": "python",
      "pygments_lexer": "ipython3",
      "version": "3.8"
    },
    "prev_pub_hash": "994068b9b31eebd811cd3cd4ab9c182933da07fdbb4b8c586d6f7feb600d87e8",
    "colab": {
      "provenance": []
    }
  },
  "nbformat": 4,
  "nbformat_minor": 0
}